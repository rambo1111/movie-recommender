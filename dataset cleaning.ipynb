{
 "cells": [
  {
   "cell_type": "code",
   "execution_count": 22,
   "metadata": {},
   "outputs": [],
   "source": [
    "import pandas as pd"
   ]
  },
  {
   "cell_type": "code",
   "execution_count": 23,
   "metadata": {},
   "outputs": [
    {
     "data": {
      "text/plain": [
       "Index(['id', 'title', 'vote_average', 'vote_count', 'status', 'release_date',\n",
       "       'revenue', 'runtime', 'adult', 'backdrop_path', 'budget', 'homepage',\n",
       "       'imdb_id', 'original_language', 'original_title', 'overview',\n",
       "       'popularity', 'poster_path', 'tagline', 'genres',\n",
       "       'production_companies', 'production_countries', 'spoken_languages'],\n",
       "      dtype='object')"
      ]
     },
     "execution_count": 23,
     "metadata": {},
     "output_type": "execute_result"
    }
   ],
   "source": [
    "df = pd.read_csv('movie_dataset.csv')\n",
    "df.columns"
   ]
  },
  {
   "cell_type": "code",
   "execution_count": 24,
   "metadata": {},
   "outputs": [
    {
     "data": {
      "text/html": [
       "<div>\n",
       "<style scoped>\n",
       "    .dataframe tbody tr th:only-of-type {\n",
       "        vertical-align: middle;\n",
       "    }\n",
       "\n",
       "    .dataframe tbody tr th {\n",
       "        vertical-align: top;\n",
       "    }\n",
       "\n",
       "    .dataframe thead th {\n",
       "        text-align: right;\n",
       "    }\n",
       "</style>\n",
       "<table border=\"1\" class=\"dataframe\">\n",
       "  <thead>\n",
       "    <tr style=\"text-align: right;\">\n",
       "      <th></th>\n",
       "      <th>0</th>\n",
       "      <th>1</th>\n",
       "      <th>2</th>\n",
       "      <th>3</th>\n",
       "      <th>4</th>\n",
       "    </tr>\n",
       "  </thead>\n",
       "  <tbody>\n",
       "    <tr>\n",
       "      <th>id</th>\n",
       "      <td>27205</td>\n",
       "      <td>157336</td>\n",
       "      <td>155</td>\n",
       "      <td>19995</td>\n",
       "      <td>24428</td>\n",
       "    </tr>\n",
       "    <tr>\n",
       "      <th>title</th>\n",
       "      <td>Inception</td>\n",
       "      <td>Interstellar</td>\n",
       "      <td>The Dark Knight</td>\n",
       "      <td>Avatar</td>\n",
       "      <td>The Avengers</td>\n",
       "    </tr>\n",
       "    <tr>\n",
       "      <th>vote_average</th>\n",
       "      <td>8.364</td>\n",
       "      <td>8.417</td>\n",
       "      <td>8.512</td>\n",
       "      <td>7.573</td>\n",
       "      <td>7.71</td>\n",
       "    </tr>\n",
       "    <tr>\n",
       "      <th>vote_count</th>\n",
       "      <td>34495</td>\n",
       "      <td>32571</td>\n",
       "      <td>30619</td>\n",
       "      <td>29815</td>\n",
       "      <td>29166</td>\n",
       "    </tr>\n",
       "    <tr>\n",
       "      <th>status</th>\n",
       "      <td>Released</td>\n",
       "      <td>Released</td>\n",
       "      <td>Released</td>\n",
       "      <td>Released</td>\n",
       "      <td>Released</td>\n",
       "    </tr>\n",
       "    <tr>\n",
       "      <th>release_date</th>\n",
       "      <td>2010-07-15</td>\n",
       "      <td>2014-11-05</td>\n",
       "      <td>2008-07-16</td>\n",
       "      <td>2009-12-15</td>\n",
       "      <td>2012-04-25</td>\n",
       "    </tr>\n",
       "    <tr>\n",
       "      <th>revenue</th>\n",
       "      <td>825532764</td>\n",
       "      <td>701729206</td>\n",
       "      <td>1004558444</td>\n",
       "      <td>2923706026</td>\n",
       "      <td>1518815515</td>\n",
       "    </tr>\n",
       "    <tr>\n",
       "      <th>runtime</th>\n",
       "      <td>148</td>\n",
       "      <td>169</td>\n",
       "      <td>152</td>\n",
       "      <td>162</td>\n",
       "      <td>143</td>\n",
       "    </tr>\n",
       "    <tr>\n",
       "      <th>adult</th>\n",
       "      <td>False</td>\n",
       "      <td>False</td>\n",
       "      <td>False</td>\n",
       "      <td>False</td>\n",
       "      <td>False</td>\n",
       "    </tr>\n",
       "    <tr>\n",
       "      <th>backdrop_path</th>\n",
       "      <td>/8ZTVqvKDQ8emSGUEMjsS4yHAwrp.jpg</td>\n",
       "      <td>/pbrkL804c8yAv3zBZR4QPEafpAR.jpg</td>\n",
       "      <td>/nMKdUUepR0i5zn0y1T4CsSB5chy.jpg</td>\n",
       "      <td>/vL5LR6WdxWPjLPFRLe133jXWsh5.jpg</td>\n",
       "      <td>/9BBTo63ANSmhC4e6r62OJFuK2GL.jpg</td>\n",
       "    </tr>\n",
       "    <tr>\n",
       "      <th>budget</th>\n",
       "      <td>160000000</td>\n",
       "      <td>165000000</td>\n",
       "      <td>185000000</td>\n",
       "      <td>237000000</td>\n",
       "      <td>220000000</td>\n",
       "    </tr>\n",
       "    <tr>\n",
       "      <th>homepage</th>\n",
       "      <td>https://www.warnerbros.com/movies/inception</td>\n",
       "      <td>http://www.interstellarmovie.net/</td>\n",
       "      <td>https://www.warnerbros.com/movies/dark-knight/</td>\n",
       "      <td>https://www.avatar.com/movies/avatar</td>\n",
       "      <td>https://www.marvel.com/movies/the-avengers</td>\n",
       "    </tr>\n",
       "    <tr>\n",
       "      <th>imdb_id</th>\n",
       "      <td>tt1375666</td>\n",
       "      <td>tt0816692</td>\n",
       "      <td>tt0468569</td>\n",
       "      <td>tt0499549</td>\n",
       "      <td>tt0848228</td>\n",
       "    </tr>\n",
       "    <tr>\n",
       "      <th>original_language</th>\n",
       "      <td>en</td>\n",
       "      <td>en</td>\n",
       "      <td>en</td>\n",
       "      <td>en</td>\n",
       "      <td>en</td>\n",
       "    </tr>\n",
       "    <tr>\n",
       "      <th>original_title</th>\n",
       "      <td>Inception</td>\n",
       "      <td>Interstellar</td>\n",
       "      <td>The Dark Knight</td>\n",
       "      <td>Avatar</td>\n",
       "      <td>The Avengers</td>\n",
       "    </tr>\n",
       "    <tr>\n",
       "      <th>overview</th>\n",
       "      <td>Cobb, a skilled thief who commits corporate es...</td>\n",
       "      <td>The adventures of a group of explorers who mak...</td>\n",
       "      <td>Batman raises the stakes in his war on crime. ...</td>\n",
       "      <td>In the 22nd century, a paraplegic Marine is di...</td>\n",
       "      <td>When an unexpected enemy emerges and threatens...</td>\n",
       "    </tr>\n",
       "    <tr>\n",
       "      <th>popularity</th>\n",
       "      <td>83.952</td>\n",
       "      <td>140.241</td>\n",
       "      <td>130.643</td>\n",
       "      <td>79.932</td>\n",
       "      <td>98.082</td>\n",
       "    </tr>\n",
       "    <tr>\n",
       "      <th>poster_path</th>\n",
       "      <td>/oYuLEt3zVCKq57qu2F8dT7NIa6f.jpg</td>\n",
       "      <td>/gEU2QniE6E77NI6lCU6MxlNBvIx.jpg</td>\n",
       "      <td>/qJ2tW6WMUDux911r6m7haRef0WH.jpg</td>\n",
       "      <td>/kyeqWdyUXW608qlYkRqosgbbJyK.jpg</td>\n",
       "      <td>/RYMX2wcKCBAr24UyPD7xwmjaTn.jpg</td>\n",
       "    </tr>\n",
       "    <tr>\n",
       "      <th>tagline</th>\n",
       "      <td>Your mind is the scene of the crime.</td>\n",
       "      <td>Mankind was born on Earth. It was never meant ...</td>\n",
       "      <td>Welcome to a world without rules.</td>\n",
       "      <td>Enter the world of Pandora.</td>\n",
       "      <td>Some assembly required.</td>\n",
       "    </tr>\n",
       "    <tr>\n",
       "      <th>genres</th>\n",
       "      <td>Action, Science Fiction, Adventure</td>\n",
       "      <td>Adventure, Drama, Science Fiction</td>\n",
       "      <td>Drama, Action, Crime, Thriller</td>\n",
       "      <td>Action, Adventure, Fantasy, Science Fiction</td>\n",
       "      <td>Science Fiction, Action, Adventure</td>\n",
       "    </tr>\n",
       "    <tr>\n",
       "      <th>production_companies</th>\n",
       "      <td>Legendary Pictures, Syncopy, Warner Bros. Pict...</td>\n",
       "      <td>Legendary Pictures, Syncopy, Lynda Obst Produc...</td>\n",
       "      <td>DC Comics, Legendary Pictures, Syncopy, Isobel...</td>\n",
       "      <td>Dune Entertainment, Lightstorm Entertainment, ...</td>\n",
       "      <td>Marvel Studios</td>\n",
       "    </tr>\n",
       "    <tr>\n",
       "      <th>production_countries</th>\n",
       "      <td>United Kingdom, United States of America</td>\n",
       "      <td>United Kingdom, United States of America</td>\n",
       "      <td>United Kingdom, United States of America</td>\n",
       "      <td>United States of America, United Kingdom</td>\n",
       "      <td>United States of America</td>\n",
       "    </tr>\n",
       "    <tr>\n",
       "      <th>spoken_languages</th>\n",
       "      <td>English, French, Japanese, Swahili</td>\n",
       "      <td>English</td>\n",
       "      <td>English, Mandarin</td>\n",
       "      <td>English, Spanish</td>\n",
       "      <td>English, Hindi, Russian</td>\n",
       "    </tr>\n",
       "  </tbody>\n",
       "</table>\n",
       "</div>"
      ],
      "text/plain": [
       "                                                                      0  \\\n",
       "id                                                                27205   \n",
       "title                                                         Inception   \n",
       "vote_average                                                      8.364   \n",
       "vote_count                                                        34495   \n",
       "status                                                         Released   \n",
       "release_date                                                 2010-07-15   \n",
       "revenue                                                       825532764   \n",
       "runtime                                                             148   \n",
       "adult                                                             False   \n",
       "backdrop_path                          /8ZTVqvKDQ8emSGUEMjsS4yHAwrp.jpg   \n",
       "budget                                                        160000000   \n",
       "homepage                    https://www.warnerbros.com/movies/inception   \n",
       "imdb_id                                                       tt1375666   \n",
       "original_language                                                    en   \n",
       "original_title                                                Inception   \n",
       "overview              Cobb, a skilled thief who commits corporate es...   \n",
       "popularity                                                       83.952   \n",
       "poster_path                            /oYuLEt3zVCKq57qu2F8dT7NIa6f.jpg   \n",
       "tagline                            Your mind is the scene of the crime.   \n",
       "genres                               Action, Science Fiction, Adventure   \n",
       "production_companies  Legendary Pictures, Syncopy, Warner Bros. Pict...   \n",
       "production_countries           United Kingdom, United States of America   \n",
       "spoken_languages                     English, French, Japanese, Swahili   \n",
       "\n",
       "                                                                      1  \\\n",
       "id                                                               157336   \n",
       "title                                                      Interstellar   \n",
       "vote_average                                                      8.417   \n",
       "vote_count                                                        32571   \n",
       "status                                                         Released   \n",
       "release_date                                                 2014-11-05   \n",
       "revenue                                                       701729206   \n",
       "runtime                                                             169   \n",
       "adult                                                             False   \n",
       "backdrop_path                          /pbrkL804c8yAv3zBZR4QPEafpAR.jpg   \n",
       "budget                                                        165000000   \n",
       "homepage                              http://www.interstellarmovie.net/   \n",
       "imdb_id                                                       tt0816692   \n",
       "original_language                                                    en   \n",
       "original_title                                             Interstellar   \n",
       "overview              The adventures of a group of explorers who mak...   \n",
       "popularity                                                      140.241   \n",
       "poster_path                            /gEU2QniE6E77NI6lCU6MxlNBvIx.jpg   \n",
       "tagline               Mankind was born on Earth. It was never meant ...   \n",
       "genres                                Adventure, Drama, Science Fiction   \n",
       "production_companies  Legendary Pictures, Syncopy, Lynda Obst Produc...   \n",
       "production_countries           United Kingdom, United States of America   \n",
       "spoken_languages                                                English   \n",
       "\n",
       "                                                                      2  \\\n",
       "id                                                                  155   \n",
       "title                                                   The Dark Knight   \n",
       "vote_average                                                      8.512   \n",
       "vote_count                                                        30619   \n",
       "status                                                         Released   \n",
       "release_date                                                 2008-07-16   \n",
       "revenue                                                      1004558444   \n",
       "runtime                                                             152   \n",
       "adult                                                             False   \n",
       "backdrop_path                          /nMKdUUepR0i5zn0y1T4CsSB5chy.jpg   \n",
       "budget                                                        185000000   \n",
       "homepage                 https://www.warnerbros.com/movies/dark-knight/   \n",
       "imdb_id                                                       tt0468569   \n",
       "original_language                                                    en   \n",
       "original_title                                          The Dark Knight   \n",
       "overview              Batman raises the stakes in his war on crime. ...   \n",
       "popularity                                                      130.643   \n",
       "poster_path                            /qJ2tW6WMUDux911r6m7haRef0WH.jpg   \n",
       "tagline                               Welcome to a world without rules.   \n",
       "genres                                   Drama, Action, Crime, Thriller   \n",
       "production_companies  DC Comics, Legendary Pictures, Syncopy, Isobel...   \n",
       "production_countries           United Kingdom, United States of America   \n",
       "spoken_languages                                      English, Mandarin   \n",
       "\n",
       "                                                                      3  \\\n",
       "id                                                                19995   \n",
       "title                                                            Avatar   \n",
       "vote_average                                                      7.573   \n",
       "vote_count                                                        29815   \n",
       "status                                                         Released   \n",
       "release_date                                                 2009-12-15   \n",
       "revenue                                                      2923706026   \n",
       "runtime                                                             162   \n",
       "adult                                                             False   \n",
       "backdrop_path                          /vL5LR6WdxWPjLPFRLe133jXWsh5.jpg   \n",
       "budget                                                        237000000   \n",
       "homepage                           https://www.avatar.com/movies/avatar   \n",
       "imdb_id                                                       tt0499549   \n",
       "original_language                                                    en   \n",
       "original_title                                                   Avatar   \n",
       "overview              In the 22nd century, a paraplegic Marine is di...   \n",
       "popularity                                                       79.932   \n",
       "poster_path                            /kyeqWdyUXW608qlYkRqosgbbJyK.jpg   \n",
       "tagline                                     Enter the world of Pandora.   \n",
       "genres                      Action, Adventure, Fantasy, Science Fiction   \n",
       "production_companies  Dune Entertainment, Lightstorm Entertainment, ...   \n",
       "production_countries           United States of America, United Kingdom   \n",
       "spoken_languages                                       English, Spanish   \n",
       "\n",
       "                                                                      4  \n",
       "id                                                                24428  \n",
       "title                                                      The Avengers  \n",
       "vote_average                                                       7.71  \n",
       "vote_count                                                        29166  \n",
       "status                                                         Released  \n",
       "release_date                                                 2012-04-25  \n",
       "revenue                                                      1518815515  \n",
       "runtime                                                             143  \n",
       "adult                                                             False  \n",
       "backdrop_path                          /9BBTo63ANSmhC4e6r62OJFuK2GL.jpg  \n",
       "budget                                                        220000000  \n",
       "homepage                     https://www.marvel.com/movies/the-avengers  \n",
       "imdb_id                                                       tt0848228  \n",
       "original_language                                                    en  \n",
       "original_title                                             The Avengers  \n",
       "overview              When an unexpected enemy emerges and threatens...  \n",
       "popularity                                                       98.082  \n",
       "poster_path                             /RYMX2wcKCBAr24UyPD7xwmjaTn.jpg  \n",
       "tagline                                         Some assembly required.  \n",
       "genres                               Science Fiction, Action, Adventure  \n",
       "production_companies                                     Marvel Studios  \n",
       "production_countries                           United States of America  \n",
       "spoken_languages                                English, Hindi, Russian  "
      ]
     },
     "execution_count": 24,
     "metadata": {},
     "output_type": "execute_result"
    }
   ],
   "source": [
    "df.head().transpose()"
   ]
  },
  {
   "cell_type": "code",
   "execution_count": 25,
   "metadata": {},
   "outputs": [
    {
     "data": {
      "text/plain": [
       "id                           0\n",
       "title                       12\n",
       "vote_average                 0\n",
       "vote_count                   0\n",
       "status                       0\n",
       "release_date            106907\n",
       "revenue                      0\n",
       "runtime                      0\n",
       "adult                        0\n",
       "backdrop_path           703660\n",
       "budget                       0\n",
       "homepage                878648\n",
       "imdb_id                 418389\n",
       "original_language            0\n",
       "original_title              12\n",
       "overview                176824\n",
       "popularity                   0\n",
       "poster_path             267055\n",
       "tagline                 843911\n",
       "genres                  358912\n",
       "production_companies    513260\n",
       "production_countries    396302\n",
       "spoken_languages        387588\n",
       "dtype: int64"
      ]
     },
     "execution_count": 25,
     "metadata": {},
     "output_type": "execute_result"
    }
   ],
   "source": [
    "df.isnull().sum()"
   ]
  },
  {
   "cell_type": "code",
   "execution_count": 26,
   "metadata": {},
   "outputs": [],
   "source": [
    "df.dropna(subset=['title'], inplace=True)"
   ]
  },
  {
   "cell_type": "code",
   "execution_count": 27,
   "metadata": {},
   "outputs": [
    {
     "data": {
      "text/plain": [
       "id                           0\n",
       "title                        0\n",
       "vote_average                 0\n",
       "vote_count                   0\n",
       "status                       0\n",
       "release_date            106899\n",
       "revenue                      0\n",
       "runtime                      0\n",
       "adult                        0\n",
       "backdrop_path           703651\n",
       "budget                       0\n",
       "homepage                878636\n",
       "imdb_id                 418377\n",
       "original_language            0\n",
       "original_title               0\n",
       "overview                176816\n",
       "popularity                   0\n",
       "poster_path             267050\n",
       "tagline                 843899\n",
       "genres                  358905\n",
       "production_companies    513248\n",
       "production_countries    396293\n",
       "spoken_languages        387580\n",
       "dtype: int64"
      ]
     },
     "execution_count": 27,
     "metadata": {},
     "output_type": "execute_result"
    }
   ],
   "source": [
    "df.isnull().sum()"
   ]
  },
  {
   "cell_type": "code",
   "execution_count": 28,
   "metadata": {},
   "outputs": [
    {
     "data": {
      "text/plain": [
       "Index(['id', 'title', 'vote_average', 'vote_count', 'status', 'release_date',\n",
       "       'revenue', 'runtime', 'adult', 'backdrop_path', 'budget', 'homepage',\n",
       "       'imdb_id', 'original_language', 'original_title', 'overview',\n",
       "       'popularity', 'poster_path', 'tagline', 'genres',\n",
       "       'production_companies', 'production_countries', 'spoken_languages'],\n",
       "      dtype='object')"
      ]
     },
     "execution_count": 28,
     "metadata": {},
     "output_type": "execute_result"
    }
   ],
   "source": [
    "df.columns"
   ]
  },
  {
   "cell_type": "code",
   "execution_count": 30,
   "metadata": {},
   "outputs": [],
   "source": [
    "df.drop(['vote_average', 'vote_count', 'status', 'release_date', 'revenue', 'runtime', 'adult', 'backdrop_path', 'budget', 'homepage', 'imdb_id'], axis=1, inplace=True)"
   ]
  },
  {
   "cell_type": "code",
   "execution_count": 31,
   "metadata": {},
   "outputs": [
    {
     "data": {
      "text/plain": [
       "Index(['id', 'title', 'original_language', 'original_title', 'overview',\n",
       "       'popularity', 'poster_path', 'tagline', 'genres',\n",
       "       'production_companies', 'production_countries', 'spoken_languages'],\n",
       "      dtype='object')"
      ]
     },
     "execution_count": 31,
     "metadata": {},
     "output_type": "execute_result"
    }
   ],
   "source": [
    "df.columns"
   ]
  },
  {
   "cell_type": "code",
   "execution_count": 32,
   "metadata": {},
   "outputs": [],
   "source": [
    "df.drop(['id', 'popularity', 'poster_path', 'original_language', 'original_title','production_companies', 'production_countries'], axis=1, inplace=True)"
   ]
  },
  {
   "cell_type": "code",
   "execution_count": 33,
   "metadata": {},
   "outputs": [
    {
     "data": {
      "text/plain": [
       "Index(['title', 'overview', 'tagline', 'genres', 'spoken_languages'], dtype='object')"
      ]
     },
     "execution_count": 33,
     "metadata": {},
     "output_type": "execute_result"
    }
   ],
   "source": [
    "df.columns"
   ]
  },
  {
   "cell_type": "code",
   "execution_count": 34,
   "metadata": {},
   "outputs": [
    {
     "data": {
      "text/plain": [
       "title                    0\n",
       "overview            176816\n",
       "tagline             843899\n",
       "genres              358905\n",
       "spoken_languages    387580\n",
       "dtype: int64"
      ]
     },
     "execution_count": 34,
     "metadata": {},
     "output_type": "execute_result"
    }
   ],
   "source": [
    "df.isnull().sum()"
   ]
  },
  {
   "cell_type": "code",
   "execution_count": 35,
   "metadata": {},
   "outputs": [],
   "source": [
    "df.dropna(subset=['tagline'], inplace=True)"
   ]
  },
  {
   "cell_type": "code",
   "execution_count": 36,
   "metadata": {},
   "outputs": [
    {
     "data": {
      "text/plain": [
       "title                   0\n",
       "overview              922\n",
       "tagline                 0\n",
       "genres              27979\n",
       "spoken_languages    33869\n",
       "dtype: int64"
      ]
     },
     "execution_count": 36,
     "metadata": {},
     "output_type": "execute_result"
    }
   ],
   "source": [
    "df.isnull().sum()"
   ]
  },
  {
   "cell_type": "code",
   "execution_count": 37,
   "metadata": {},
   "outputs": [],
   "source": [
    "df.dropna(inplace=True)"
   ]
  },
  {
   "cell_type": "code",
   "execution_count": 38,
   "metadata": {},
   "outputs": [
    {
     "data": {
      "text/plain": [
       "title               0\n",
       "overview            0\n",
       "tagline             0\n",
       "genres              0\n",
       "spoken_languages    0\n",
       "dtype: int64"
      ]
     },
     "execution_count": 38,
     "metadata": {},
     "output_type": "execute_result"
    }
   ],
   "source": [
    "df.isnull().sum()"
   ]
  },
  {
   "cell_type": "code",
   "execution_count": 40,
   "metadata": {},
   "outputs": [
    {
     "name": "stdout",
     "output_type": "stream",
     "text": [
      "<class 'pandas.core.frame.DataFrame'>\n",
      "Index: 95686 entries, 0 to 985603\n",
      "Data columns (total 5 columns):\n",
      " #   Column            Non-Null Count  Dtype \n",
      "---  ------            --------------  ----- \n",
      " 0   title             95686 non-null  object\n",
      " 1   overview          95686 non-null  object\n",
      " 2   tagline           95686 non-null  object\n",
      " 3   genres            95686 non-null  object\n",
      " 4   spoken_languages  95686 non-null  object\n",
      "dtypes: object(5)\n",
      "memory usage: 4.4+ MB\n"
     ]
    }
   ],
   "source": [
    "df.info()"
   ]
  },
  {
   "cell_type": "code",
   "execution_count": 39,
   "metadata": {},
   "outputs": [],
   "source": [
    "df.to_csv('modified_data.csv', index=False)"
   ]
  }
 ],
 "metadata": {
  "kernelspec": {
   "display_name": "Python 3",
   "language": "python",
   "name": "python3"
  },
  "language_info": {
   "codemirror_mode": {
    "name": "ipython",
    "version": 3
   },
   "file_extension": ".py",
   "mimetype": "text/x-python",
   "name": "python",
   "nbconvert_exporter": "python",
   "pygments_lexer": "ipython3",
   "version": "3.11.2"
  }
 },
 "nbformat": 4,
 "nbformat_minor": 2
}
