{
 "cells": [
  {
   "cell_type": "code",
   "execution_count": 4,
   "metadata": {},
   "outputs": [],
   "source": [
    "import pandas as pd\n",
    "from sentence_transformers import SentenceTransformer, util\n",
    "import ast"
   ]
  },
  {
   "cell_type": "code",
   "execution_count": 3,
   "metadata": {},
   "outputs": [
    {
     "data": {
      "text/plain": [
       "Index(['title', 'overview', 'tagline', 'genres', 'spoken_languages',\n",
       "       'embeddings'],\n",
       "      dtype='object')"
      ]
     },
     "execution_count": 3,
     "metadata": {},
     "output_type": "execute_result"
    }
   ],
   "source": [
    "df = pd.read_csv('vector embeddings.csv')\n",
    "df.columns"
   ]
  },
  {
   "cell_type": "code",
   "execution_count": 5,
   "metadata": {},
   "outputs": [],
   "source": [
    "df['embeddings'] = df['embeddings'].apply(ast.literal_eval)"
   ]
  },
  {
   "cell_type": "code",
   "execution_count": 6,
   "metadata": {},
   "outputs": [
    {
     "data": {
      "text/plain": [
       "0        [-0.10088536888360977, 0.07117507606744766, -0...\n",
       "1        [-0.03152095526456833, -0.012482395395636559, ...\n",
       "2        [-0.024303482845425606, 0.009252696298062801, ...\n",
       "3        [-0.006365519482642412, 0.06156251206994057, 0...\n",
       "4        [-0.05987028032541275, 0.031361568719148636, -...\n",
       "                               ...                        \n",
       "95681    [0.06905819475650787, -0.08599565923213959, -0...\n",
       "95682    [0.08072660118341446, 0.005898962263017893, 0....\n",
       "95683    [-0.006107605993747711, -0.02289171703159809, ...\n",
       "95684    [-0.08871857076883316, -0.104633629322052, -0....\n",
       "95685    [0.01787322387099266, 0.1839154064655304, -0.0...\n",
       "Name: embeddings, Length: 95686, dtype: object"
      ]
     },
     "execution_count": 6,
     "metadata": {},
     "output_type": "execute_result"
    }
   ],
   "source": [
    "df['embeddings']"
   ]
  },
  {
   "cell_type": "code",
   "execution_count": 7,
   "metadata": {},
   "outputs": [],
   "source": [
    "from sklearn.metrics.pairwise import cosine_similarity"
   ]
  },
  {
   "cell_type": "code",
   "execution_count": 8,
   "metadata": {},
   "outputs": [
    {
     "name": "stdout",
     "output_type": "stream",
     "text": [
      "Movies similar to 'Inception':\n",
      "                         title  similarity\n",
      "0                    Inception    1.000000\n",
      "70878                Footfalls    0.520317\n",
      "5749                     House    0.494960\n",
      "52451       Going Off Big Time    0.494063\n",
      "81101  Pure As The Driven Snow    0.487420\n"
     ]
    }
   ],
   "source": [
    "# Function to calculate cosine similarity\n",
    "def calculate_similarity(input_embedding, all_embeddings):\n",
    "    similarities = cosine_similarity([input_embedding], all_embeddings)\n",
    "    return similarities[0]\n",
    "\n",
    "# Function to recommend similar movies\n",
    "def recommend_similar_movies(input_title, top_n=5):\n",
    "    # Get the embedding for the input title\n",
    "    input_embedding = df[df['title'] == input_title]['embeddings'].values[0]\n",
    "\n",
    "    # Calculate cosine similarity with all other movies\n",
    "    df['similarity'] = calculate_similarity(input_embedding, list(df['embeddings']))\n",
    "\n",
    "    # Get the top N similar movies\n",
    "    similar_movies = df.sort_values(by='similarity', ascending=False).head(top_n)\n",
    "\n",
    "    return similar_movies[['title', 'similarity']]\n",
    "\n",
    "# Example: Recommend similar movies for the input title \"Inception\"\n",
    "input_title = \"Inception\"\n",
    "similar_movies = recommend_similar_movies(input_title)\n",
    "print(\"Movies similar to '{}':\".format(input_title))\n",
    "print(similar_movies)"
   ]
  }
 ],
 "metadata": {
  "kernelspec": {
   "display_name": "Python 3",
   "language": "python",
   "name": "python3"
  },
  "language_info": {
   "codemirror_mode": {
    "name": "ipython",
    "version": 3
   },
   "file_extension": ".py",
   "mimetype": "text/x-python",
   "name": "python",
   "nbconvert_exporter": "python",
   "pygments_lexer": "ipython3",
   "version": "3.11.2"
  }
 },
 "nbformat": 4,
 "nbformat_minor": 2
}
